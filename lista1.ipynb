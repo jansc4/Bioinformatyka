{
 "cells": [
  {
   "cell_type": "code",
   "execution_count": null,
   "id": "initial_id",
   "metadata": {
    "collapsed": true,
    "jupyter": {
     "outputs_hidden": true
    }
   },
   "source": [
    "from Bio import SeqIO\n",
    "from Bio.Seq import Seq\n",
    "from Bio.SeqRecord import SeqRecord\n",
    "\n",
    "with open(\"P02089.fasta\") as file:\n",
    "    for record in SeqIO.parse(file, \"fasta\"):\n",
    "        print(record.id)"
   ],
   "outputs": []
  },
  {
   "cell_type": "code",
   "execution_count": null,
   "id": "d370895366b98505",
   "metadata": {
    "collapsed": false
   },
   "source": [
    "from Bio import SeqIO\n",
    "\n",
    "for record in SeqIO.parse(\"P02089.fasta\", \"fasta\"):\n",
    "    print(record.seq)\n"
   ],
   "outputs": []
  },
  {
   "cell_type": "code",
   "execution_count": null,
   "id": "85fc313aa1b7952c",
   "metadata": {
    "collapsed": false
   },
   "source": [
    "record.seq"
   ],
   "outputs": []
  },
  {
   "cell_type": "code",
   "execution_count": null,
   "id": "824d5acc0104903f",
   "metadata": {
    "collapsed": false
   },
   "source": [
    "f = open(\"P02089.fasta\", \"r\")\n",
    "read = f.read()\n",
    "print(read)"
   ],
   "outputs": []
  },
  {
   "cell_type": "code",
   "execution_count": null,
   "id": "3835c988808c8617",
   "metadata": {
    "collapsed": false
   },
   "source": [
    "f = open(\"P02089.fasta\", \"r\")\n",
    "read = f.read()\n",
    "seq = \"\"\n",
    "read = read.split(\"\\n\")\n",
    "for i in read:\n",
    "    if \">\" not in i:\n",
    "        seq+=i\n",
    "        \n",
    "print(seq)"
   ],
   "outputs": []
  },
  {
   "cell_type": "code",
   "execution_count": null,
   "id": "8b1bc9f18d465831",
   "metadata": {
    "collapsed": false
   },
   "source": [
    "type(read)"
   ],
   "outputs": []
  },
  {
   "cell_type": "markdown",
   "source": [],
   "metadata": {
    "collapsed": false
   },
   "id": "c5fcce4538751fd"
  },
  {
   "cell_type": "markdown",
   "source": [
    "Dotplot\n"
   ],
   "metadata": {
    "collapsed": false
   },
   "id": "43ed0446feb4ac62"
  },
  {
   "cell_type": "code",
   "source": [
    "import numpy as np\n",
    "\n",
    "f = open(\"P02089.fasta\", \"r\")\n",
    "read = f.read()\n",
    "seq1 = \"\"\n",
    "read = read.split(\"\\n\")\n",
    "for i in read:\n",
    "    if \">\" not in i:\n",
    "        seq1+=i\n",
    "\n",
    "f_human = open(\"P68871.fasta\", \"r\")\n",
    "read_human = f_human.read()\n",
    "seq2 = \"\"\n",
    "read_human = read_human.split(\"\\n\")\n",
    "for i in read_human:\n",
    "    if \">\" not in i:\n",
    "        seq2+=i   \n",
    "        \n",
    "dotplot = np.zeros((len(seq1),len(seq2)))\n",
    "for i in range(len(seq1)):\n",
    "    for j in range(len(seq2)):\n",
    "        if seq1[i] == seq2[j]:\n",
    "            dotplot[i,j] = 1\n",
    "        else:\n",
    "            dotplot[i,j] = 0\n",
    "print(dotplot)"
   ],
   "metadata": {
    "collapsed": false
   },
   "id": "5303b2caf594565d",
   "execution_count": null,
   "outputs": []
  },
  {
   "cell_type": "code",
   "source": [
    "from Bio import SeqIO\n",
    "from urllib.error import HTTPError  # Importujemy wyjątek HTTPError\n",
    "\n",
    "import requests\n",
    "import numpy as np\n",
    "\n",
    "def get_uniprot_sequence(uniprot_id):\n",
    "    url = f\"https://www.uniprot.org/uniprot/{uniprot_id}.fasta\"\n",
    "    try:\n",
    "        response = requests.get(url)\n",
    "        response.raise_for_status()  # Sprawdź, czy odpowiedź nie zawiera błędu HTTP\n",
    "        fasta_data = response.text\n",
    "        lines = fasta_data.split('\\n')\n",
    "        seq = ''.join(lines[1:])  # Pobierz sekwencję z linii 2 i dalej (pomiń nagłówek)\n",
    "        return seq\n",
    "    except requests.exceptions.HTTPError as e:\n",
    "        print(f\"Wystąpił błąd HTTP: {e}\")\n",
    "        return None\n",
    "    except Exception as e:\n",
    "        print(f\"Wystąpił inny błąd: {e}\")\n",
    "        return None\n",
    "\n",
    "def start():\n",
    "    while True:\n",
    "        print(\"Wybierz metodę wprowadzania sekwencji: plik FASTA(1) lub ID Uniprot(2)\")\n",
    "        choice = input()\n",
    "        if choice == \"1\":\n",
    "            print(\"Podaj nazwę pliku\")\n",
    "            name = input()\n",
    "            seq = \"\"  # Inicjalizacja zmiennej seq\n",
    "            try:\n",
    "                with open(name, \"r\") as f:  # Użyj 'with' do otwarcia pliku, aby uniknąć zapominania o zamknięciu pliku\n",
    "                    read = f.read()\n",
    "                    read = read.split(\"\\n\")\n",
    "                    for i in read:\n",
    "                        if \">\" not in i:\n",
    "                            seq += i\n",
    "            except IOError as e:\n",
    "                print(\"Wystąpił wyjątek:\", e)\n",
    "            return seq\n",
    "        elif choice == \"2\":\n",
    "            print(\"Podaj ID Uniprot\")\n",
    "            uniprot_id = input()\n",
    "            seq = get_uniprot_sequence(uniprot_id)\n",
    "            if seq:\n",
    "                return seq\n",
    "            else:\n",
    "                print(\"Nie udało się pobrać sekwencji dla podanego ID Uniprot.\")\n",
    "        else:\n",
    "            print(\"Błędna opcja\")\n",
    "\n",
    "start()"
   ],
   "metadata": {
    "collapsed": false
   },
   "id": "11ff8db2bfb09886",
   "execution_count": null,
   "outputs": []
  },
  {
   "cell_type": "code",
   "source": [
    "import numpy as np\n",
    "\n",
    "class Sequence:\n",
    "    def __init__(self, seq, name=\"default\", id=000000):\n",
    "        self.sequence = seq\n",
    "        self.length = len(seq)\n",
    "        self.name = name\n",
    "        self.id = id\n",
    "        \n",
    "    def __str__(self):\n",
    "        return self.sequence\n",
    "    \n",
    "    def get_length(self):\n",
    "        return self.length\n",
    "    \n",
    "    def dotplot(self, seq2):\n",
    "        dp = np.zeros((self.length, seq2.get_length()))\n",
    "        for i in range(self.length):\n",
    "            for j in range(seq2.get_length()):\n",
    "                if self.sequence[i] == seq2.sequence[j]:\n",
    "                    dp[i,j] = 1\n",
    "                else:\n",
    "                    dp[i,j] = 0\n",
    "        return dp\n"
   ],
   "metadata": {
    "collapsed": false,
    "ExecuteTime": {
     "end_time": "2024-03-15T06:26:52.229163Z",
     "start_time": "2024-03-15T06:26:52.108042Z"
    }
   },
   "id": "e14db752cb3fbc8e",
   "execution_count": 1,
   "outputs": []
  },
  {
   "cell_type": "code",
   "source": [
    "import requests\n",
    "import numpy as np\n",
    "\n",
    "def get_uniprot_sequence(uniprot_id):\n",
    "    url = f\"https://www.uniprot.org/uniprot/{uniprot_id}.fasta\"\n",
    "    try:\n",
    "        response = requests.get(url)\n",
    "        response.raise_for_status()  # Sprawdź, czy odpowiedź nie zawiera błędu HTTP\n",
    "        fasta_data = response.text\n",
    "        lines = fasta_data.split('\\n')\n",
    "        seq = ''.join(lines[1:])  # Pobierz sekwencję z linii 2 i dalej (pomiń nagłówek)\n",
    "        return seq\n",
    "    except requests.exceptions.HTTPError as e:\n",
    "        print(f\"Wystąpił błąd HTTP: {e}\")\n",
    "        return None\n",
    "    except Exception as e:\n",
    "        print(f\"Wystąpił inny błąd: {e}\")\n",
    "        return None\n",
    "\n",
    "def start():\n",
    "    while True:\n",
    "        print(\"Wybierz metodę wprowadzania sekwencji: plik FASTA(1) lub ID Uniprot(2)\")\n",
    "        choice = input()\n",
    "        if choice == \"1\":\n",
    "            print(\"Podaj nazwę pliku\")\n",
    "            name = input()\n",
    "            seq = \"\"  # Inicjalizacja zmiennej seq\n",
    "            try:\n",
    "                with open(name, \"r\") as f:  # Użyj 'with' do otwarcia pliku, aby uniknąć zapominania o zamknięciu pliku\n",
    "                    read = f.read()\n",
    "                    read = read.split(\"\\n\")\n",
    "                    for i in read:\n",
    "                        if \">\" not in i:\n",
    "                            seq += i\n",
    "            except IOError as e:\n",
    "                print(\"Wystąpił wyjątek:\", e)\n",
    "            return seq\n",
    "        elif choice == \"2\":\n",
    "            print(\"Podaj ID Uniprot\")\n",
    "            uniprot_id = input()\n",
    "            seq = get_uniprot_sequence(uniprot_id)\n",
    "            if seq:\n",
    "                return seq\n",
    "            else:\n",
    "                print(\"Nie udało się pobrać sekwencji dla podanego ID Uniprot.\")\n",
    "        else:\n",
    "            print(\"Błędna opcja\")\n",
    "\n",
    "print(\"Wybierz pierwszą sekwencję:\")\n",
    "seq1 = Sequence(start())\n",
    "print(\"Wybierz drugą sekwencję:\")\n",
    "seq2 = Sequence(start())\n",
    "dp = seq1.dotplot(seq2)\n",
    "print(dp)\n",
    "np.savetxt(\"dotplot.txt\", dp, fmt=\"%d\")\n"
   ],
   "metadata": {
    "collapsed": false
   },
   "id": "ae9dd1e62174395",
   "execution_count": null,
   "outputs": []
  },
  {
   "cell_type": "code",
   "source": [
    "type(dp)"
   ],
   "metadata": {
    "collapsed": false
   },
   "id": "243ca62e561edca1",
   "execution_count": null,
   "outputs": []
  },
  {
   "cell_type": "code",
   "source": [
    "import numpy as np\n",
    "\n",
    "class Dotplot:\n",
    "    def __init__(self, array):\n",
    "        self.array = array\n",
    "        self.size = len(array)\n",
    "        \n",
    "    def __getitem__(self, index):\n",
    "        n, m = index\n",
    "        return self.array[n][m]\n",
    "    \n",
    "    def __setitem__(self, index, val):\n",
    "        n, m = index\n",
    "        self.array[n][m] = val\n",
    "        \n",
    "    def __str__(self):\n",
    "        return str(self.array)\n",
    "    \n",
    "    def saveTxt(self, filename):\n",
    "        np.savetxt(filename, self.array, fmt=\"%d\")\n"
   ],
   "metadata": {
    "collapsed": false,
    "ExecuteTime": {
     "end_time": "2024-03-15T06:27:18.885820Z",
     "start_time": "2024-03-15T06:27:18.880640Z"
    }
   },
   "id": "47f0bc76fe8e5ea7",
   "execution_count": 2,
   "outputs": []
  },
  {
   "cell_type": "code",
   "source": [
    "import requests\n",
    "import numpy as np\n",
    "import re\n",
    "\n",
    "def seqConstructor(fasta_data):\n",
    "    lines = fasta_data.split('\\n')\n",
    "\n",
    "    # Sprawdź, czy sekwencja zawiera nagłówek\n",
    "    if not lines[0].startswith('>'):\n",
    "        print(\"Błąd: Brak nagłówka w sekwencji FASTA.\")\n",
    "        return None\n",
    "\n",
    "    seq = ''.join(lines[1:])\n",
    "\n",
    "    # Sprawdź, czy sekwencja zawiera nielegalne znaki\n",
    "    basic_amino_acids = {'A', 'C', 'D', 'E', 'F', 'G', 'H', 'I', 'K', 'L', 'M', 'N', 'P', 'Q', 'R', 'S', 'T', 'V', 'W', 'Y'}\n",
    "\n",
    "    if not set(seq).issubset(basic_amino_acids):\n",
    "        print(\"Błąd: Sekwencja zawiera nielegalne znaki.\")\n",
    "        return None\n",
    "\n",
    "    match = re.match(r\">sp\\|(\\w+)\\|(\\w+)OS\", lines[0])\n",
    "    id = None\n",
    "    name = None\n",
    "    if match:\n",
    "        id = match.group(1)\n",
    "        name = match.group(2)\n",
    "    \n",
    "    protein = Sequence(seq, id=id, name=name)\n",
    "    return protein\n",
    "\n",
    "\n",
    "\n",
    "\n",
    "def get_uniprot_sequence(uniprot_id):\n",
    "    url = f\"https://www.uniprot.org/uniprot/{uniprot_id}.fasta\"\n",
    "    try:\n",
    "        response = requests.get(url)\n",
    "        response.raise_for_status()  # Sprawdź, czy odpowiedź nie zawiera błędu HTTP\n",
    "        fasta_data = response.text\n",
    "        seq = seqConstructor(fasta_data)\n",
    "        return seq\n",
    "    except requests.exceptions.HTTPError as e:\n",
    "        print(f\"Wystąpił błąd HTTP: {e}\")\n",
    "        return None\n",
    "    except Exception as e:\n",
    "        print(f\"Wystąpił inny błąd: {e}\")\n",
    "        return None\n",
    "\n",
    "\n",
    "\n",
    "\n",
    "    \n",
    "def start():\n",
    "    while True:\n",
    "        print(\"Wybierz metodę wprowadzania sekwencji: plik FASTA(1) lub ID Uniprot(2)\")\n",
    "        choice = input()\n",
    "        if choice == \"1\":\n",
    "            print(\"Podaj nazwę pliku\")\n",
    "            name = input()\n",
    "            seq = \"\"  # Inicjalizacja zmiennej seq\n",
    "            try:\n",
    "                with open(name, \"r\") as f:  # Użyj 'with' do otwarcia pliku, aby uniknąć zapominania o zamknięciu pliku\n",
    "                    read = f.read()\n",
    "                    seq = seqConstructor(read)\n",
    "            except IOError as e:\n",
    "                print(\"Wystąpił wyjątek:\", e)\n",
    "            return seq\n",
    "        elif choice == \"2\":\n",
    "            print(\"Podaj ID Uniprot\")\n",
    "            uniprot_id = input()\n",
    "            seq = get_uniprot_sequence(uniprot_id)\n",
    "            if seq:\n",
    "                return seq\n",
    "            else:\n",
    "                print(\"Nie udało się pobrać sekwencji dla podanego ID Uniprot.\")\n",
    "        else:\n",
    "            print(\"Błędna opcja\")\n",
    "\n",
    "print(\"Wybierz pierwszą sekwencję:\")\n",
    "seq1 = start()\n",
    "print(\"Wybierz drugą sekwencję:\")\n",
    "seq2 = start()\n",
    "dp = Dotplot(seq1.dotplot(seq2))\n",
    "\n",
    "print(dp)\n",
    "dp.saveTxt(\"dotplot.txt\")"
   ],
   "metadata": {
    "collapsed": false,
    "ExecuteTime": {
     "end_time": "2024-03-14T19:43:59.904136Z",
     "start_time": "2024-03-14T19:43:50.198847Z"
    }
   },
   "id": "7458a8fc8c957d28",
   "execution_count": 6,
   "outputs": []
  },
  {
   "cell_type": "code",
   "source": [
    "import numpy as np\n",
    "import matplotlib.pyplot as plt\n",
    "\n",
    "# Przykładowa macierz kropkowa\n",
    "dot_matrix = dp.array\n",
    "\n",
    "# Wyświetlenie macierzy kropkowej\n",
    "plt.imshow(dot_matrix, cmap='binary', interpolation='nearest')\n",
    "\n",
    "# Tytuł wykresu i osi\n",
    "plt.title('Macierz Kropkowa')\n",
    "plt.xlabel('Sekwencja 2')\n",
    "plt.ylabel('Sekwencja 1')\n",
    "\n",
    "# Dodanie siatki\n",
    "plt.grid(True, which='both', linestyle='--', linewidth=0.5, color='gray')\n",
    "\n",
    "# Ustawienie kropek na osiach\n",
    "#plt.xticks(np.arange(-0.5, 5.5, 1), np.arange(0, 6, 1))\n",
    "#plt.yticks(np.arange(-0.5, 5.5, 1), np.arange(0, 6, 1))\n",
    "\n",
    "# Dodanie legendy\n",
    "#plt.colorbar(label='Wartość')\n",
    "\n",
    "# Wyświetlenie wykresu\n",
    "plt.show()\n"
   ],
   "metadata": {
    "collapsed": false,
    "ExecuteTime": {
     "end_time": "2024-03-14T19:49:40.517143Z",
     "start_time": "2024-03-14T19:49:40.171326Z"
    }
   },
   "id": "d49bb6fb6c6a11f8",
   "execution_count": 12,
   "outputs": []
  },
  {
   "cell_type": "code",
   "source": [
    "type(dp)"
   ],
   "metadata": {
    "collapsed": false,
    "ExecuteTime": {
     "end_time": "2024-03-14T19:45:06.124315Z",
     "start_time": "2024-03-14T19:45:06.117871Z"
    }
   },
   "id": "6ee48a5b98cf8cce",
   "execution_count": 8,
   "outputs": []
  },
  {
   "cell_type": "code",
   "source": [
    "seq1.get_length()\n"
   ],
   "metadata": {
    "collapsed": false,
    "ExecuteTime": {
     "end_time": "2024-03-14T19:46:20.671714Z",
     "start_time": "2024-03-14T19:46:20.664078Z"
    }
   },
   "id": "2b167497ed94f457",
   "execution_count": 10,
   "outputs": []
  },
  {
   "cell_type": "code",
   "source": [
    "import numpy as np\n",
    "\n",
    "\n",
    "class Dotplot:\n",
    "    def __init__(self, array):\n",
    "        self.array = array\n",
    "        self.size = len(array)\n",
    "        self.seq1Id = \"1\"\n",
    "        self.seq2Id = \"2\"\n",
    "        self.seq1Name = \"Seq 1\"\n",
    "        self.seq2Name = \"Seq 2\"\n",
    "\n",
    "    @classmethod\n",
    "    def from_sequences(cls, seq1, seq2):\n",
    "        len_seq1 = len(seq1.sequence)\n",
    "        len_seq2 = len(seq2.sequence)\n",
    "        seq1Id = seq1.id\n",
    "        seq2Id = seq2.id\n",
    "        seq1Name = seq1.name\n",
    "        seq2Name = seq2.name\n",
    "\n",
    "\n",
    "        dp = np.zeros((len_seq1, len_seq2), dtype=int)\n",
    "\n",
    "        for i in range(len_seq1):\n",
    "            for j in range(len_seq2):\n",
    "                if seq1.sequence[i] == seq2.sequence[j]:\n",
    "                    dp[i, j] = 1\n",
    "\n",
    "        return cls(dp)\n",
    "    def __getitem__(self, index):\n",
    "        n, m = index\n",
    "        return self.array[n][m]\n",
    "\n",
    "    def __setitem__(self, index, val):\n",
    "        n, m = index\n",
    "        self.array[n][m] = val\n",
    "\n",
    "    def __str__(self):\n",
    "        return str(self.array)\n",
    "\n",
    "    def saveTxt(self, filename):\n",
    "        np.savetxt(filename, self.array, fmt=\"%d\")\n"
   ],
   "metadata": {
    "collapsed": false,
    "ExecuteTime": {
     "end_time": "2024-03-15T08:28:13.443737Z",
     "start_time": "2024-03-15T08:28:13.411529Z"
    }
   },
   "id": "116d98e2c6ef026d",
   "execution_count": 3,
   "outputs": []
  },
  {
   "cell_type": "code",
   "source": [
    "import numpy as np\n",
    "\n",
    "\n",
    "class Sequence:\n",
    "    def __init__(self, seq, name=\"default\", id=000000):\n",
    "        self.sequence = seq\n",
    "        self.length = len(seq)\n",
    "        self.name = name\n",
    "        self.id = id\n",
    "\n",
    "    def __str__(self):\n",
    "        return self.sequence\n",
    "\n",
    "    def get_length(self):\n",
    "        return self.length\n",
    "\n",
    "    def dotplot(self, seq2):\n",
    "        dp = np.zeros((self.length, seq2.get_length()))\n",
    "        for i in range(self.length):\n",
    "            for j in range(seq2.get_length()):\n",
    "                if self.sequence[i] == seq2.sequence[j]:\n",
    "                    dp[i, j] = 1\n",
    "                else:\n",
    "                    dp[i, j] = 0\n",
    "        return dp\n",
    "\n"
   ],
   "metadata": {
    "collapsed": false,
    "ExecuteTime": {
     "end_time": "2024-03-15T08:28:39.632187Z",
     "start_time": "2024-03-15T08:28:39.621877Z"
    }
   },
   "id": "3b4aab88bfbaebd2",
   "execution_count": 4,
   "outputs": []
  },
  {
   "cell_type": "code",
   "source": [
    "import requests\n",
    "\n",
    "import re\n",
    "\n",
    "\n",
    "def seqConstructor(fasta_data):\n",
    "    lines = fasta_data.split('\\n')\n",
    "\n",
    "    # Sprawdź, czy sekwencja zawiera nagłówek\n",
    "    if not lines[0].startswith('>'):\n",
    "        print(\"Błąd: Brak nagłówka w sekwencji FASTA.\")\n",
    "        return None\n",
    "\n",
    "    seq = ''.join(lines[1:])\n",
    "\n",
    "    # Sprawdź, czy sekwencja zawiera nielegalne znaki\n",
    "    basic_amino_acids = {'A', 'C', 'D', 'E', 'F', 'G', 'H', 'I', 'K', 'L', 'M', 'N', 'P', 'Q', 'R', 'S', 'T', 'V', 'W',\n",
    "                         'Y'}\n",
    "\n",
    "    if not set(seq).issubset(basic_amino_acids):\n",
    "        print(\"Błąd: Sekwencja zawiera nielegalne znaki.\")\n",
    "        return None\n",
    "\n",
    "    match = re.match(r\">sp\\|(\\w+)\\|(\\w+)OS\", lines[0])\n",
    "    id = None\n",
    "    name = None\n",
    "    if match:\n",
    "        id = match.group(1)\n",
    "        name = match.group(2)\n",
    "\n",
    "    protein = Sequence(seq, id, name)\n",
    "    return protein\n",
    "\n",
    "\n",
    "def get_uniprot_sequence(uniprot_id):\n",
    "    url = f\"https://www.uniprot.org/uniprot/{uniprot_id}.fasta\"\n",
    "    try:\n",
    "        response = requests.get(url)\n",
    "        response.raise_for_status()  # Sprawdź, czy odpowiedź nie zawiera błędu HTTP\n",
    "        fasta_data = response.text\n",
    "        seq = seqConstructor(fasta_data)\n",
    "        return seq\n",
    "    except requests.exceptions.HTTPError as e:\n",
    "        print(f\"Wystąpił błąd HTTP: {e}\")\n",
    "        return None\n",
    "    except Exception as e:\n",
    "        print(f\"Wystąpił inny błąd: {e}\")\n",
    "        return None\n",
    "\n",
    "\n",
    "def start():\n",
    "    while True:\n",
    "        print(\"Wybierz metodę wprowadzania sekwencji: plik FASTA(1) lub ID Uniprot(2)\")\n",
    "        choice = input()\n",
    "        if choice == \"1\":\n",
    "            print(\"Podaj nazwę pliku\")\n",
    "            name = input()\n",
    "            seq = \"\"  # Inicjalizacja zmiennej seq\n",
    "            try:\n",
    "                with open(name, \"r\") as f:  # Użyj 'with' do otwarcia pliku, aby uniknąć zapominania o zamknięciu pliku\n",
    "                    read = f.read()\n",
    "                    seq = seqConstructor(read)\n",
    "            except IOError as e:\n",
    "                print(\"Wystąpił wyjątek:\", e)\n",
    "            return seq\n",
    "        elif choice == \"2\":\n",
    "            print(\"Podaj ID Uniprot\")\n",
    "            uniprot_id = input()\n",
    "            seq = get_uniprot_sequence(uniprot_id)\n",
    "            if seq:\n",
    "                return seq\n",
    "            else:\n",
    "                print(\"Nie udało się pobrać sekwencji dla podanego ID Uniprot.\")\n",
    "        else:\n",
    "            print(\"Błędna opcja\")\n",
    "\n",
    "\n",
    "print(\"Wybierz pierwszą sekwencję:\")\n",
    "seq1 = start()\n",
    "print(\"Wybierz drugą sekwencję:\")\n",
    "seq2 = start()\n",
    "dp = Dotplot.from_sequences(seq1, seq2)\n",
    "\n",
    "print(dp)\n",
    "dp.saveTxt(\"dotplot.txt\")"
   ],
   "metadata": {
    "collapsed": false,
    "ExecuteTime": {
     "end_time": "2024-03-15T08:31:31.230953Z",
     "start_time": "2024-03-15T08:29:56.015595Z"
    }
   },
   "id": "9ab10574af45cf8d",
   "execution_count": 6,
   "outputs": []
  },
  {
   "cell_type": "code",
   "source": [
    "from Sequence import Sequence\n",
    "seq1 = Sequence(\"MVHLTDAEKSAVSCLWAKVNPDEVGGEALGRLLVVYPWTQRYFDSFGDLSSASAIMGNPKVKAHGKKVITAFNEGLKNLDNLKGTFASLSELHCDKLHVDPENFRLLGNAIVIVLGHHLGKDFTPAAQAAFQKVVAGVATALAHKYH\", \"human\", \"P02089\")"
   ],
   "metadata": {
    "collapsed": false,
    "ExecuteTime": {
     "end_time": "2024-03-15T08:43:29.048423Z",
     "start_time": "2024-03-15T08:43:29.044479Z"
    }
   },
   "id": "5f200b2f17a5e6",
   "execution_count": 8,
   "outputs": []
  },
  {
   "cell_type": "code",
   "source": [
    "from Sequence import Sequence\n",
    "seq2 = Sequence(\">sp|P68871|HBB_HUMAN Hemoglobin subunit beta OS=Homo sapiens OX=9606 GN=HBB PE=1 SV=2MVHLTPEEKSAVTALWGKVNVDEVGGEALGRLLVVYPWTQRFFESFGDLSTPDAVMGNPKVKAHGKKVLGAFSDGLAHLDNLKGTFATLSELHCDKLHVDPENFRLLGNVLVCVLAHHFGKEFTPPVQAAYQKVVAGVANALAHKYH\", \"mouse\", \"P68871\")"
   ],
   "metadata": {
    "collapsed": false,
    "ExecuteTime": {
     "end_time": "2024-03-15T08:49:04.537483Z",
     "start_time": "2024-03-15T08:49:04.533363Z"
    }
   },
   "id": "c96b4457332e2536",
   "execution_count": 9,
   "outputs": []
  },
  {
   "cell_type": "code",
   "source": [
    "import requests\n",
    "from Sequence import Sequence\n",
    "from Dotplot import Dotplot\n",
    "import re\n",
    "\n",
    "\n",
    "def seqConstructor(fasta_data):\n",
    "    lines = fasta_data.split('\\n')\n",
    "\n",
    "    # Sprawdź, czy sekwencja zawiera nagłówek\n",
    "    if not lines[0].startswith('>'):\n",
    "        print(\"Błąd: Brak nagłówka w sekwencji FASTA.\")\n",
    "        return None\n",
    "\n",
    "    seq = ''.join(lines[1:])\n",
    "\n",
    "    # Sprawdź, czy sekwencja zawiera nielegalne znaki\n",
    "    basic_amino_acids = {'A', 'C', 'D', 'E', 'F', 'G', 'H', 'I', 'K', 'L', 'M', 'N', 'P', 'Q', 'R', 'S', 'T', 'V', 'W',\n",
    "                         'Y'}\n",
    "\n",
    "    if not set(seq).issubset(basic_amino_acids):\n",
    "        print(\"Błąd: Sekwencja zawiera nielegalne znaki.\")\n",
    "        return None\n",
    "\n",
    "    match = re.match(r\">sp\\|(\\w+)\\|(\\w+)OS\", lines[0])\n",
    "    id = None\n",
    "    name = None\n",
    "    if match:\n",
    "        id = match.group(1)\n",
    "        name = match.group(2)\n",
    "\n",
    "    protein = Sequence(seq, id, name)\n",
    "    return protein\n",
    "\n",
    "\n",
    "def get_uniprot_sequence(uniprot_id):\n",
    "    url = f\"https://www.uniprot.org/uniprot/{uniprot_id}.fasta\"\n",
    "    try:\n",
    "        response = requests.get(url)\n",
    "        response.raise_for_status()  # Sprawdź, czy odpowiedź nie zawiera błędu HTTP\n",
    "        fasta_data = response.text\n",
    "        seq = seqConstructor(fasta_data)\n",
    "        return seq\n",
    "    except requests.exceptions.HTTPError as e:\n",
    "        print(f\"Wystąpił błąd HTTP: {e}\")\n",
    "        return None\n",
    "    except Exception as e:\n",
    "        print(f\"Wystąpił inny błąd: {e}\")\n",
    "        return None\n",
    "\n",
    "\n",
    "def start():\n",
    "    while True:\n",
    "        print(\"Wybierz metodę wprowadzania sekwencji: plik FASTA(1) lub ID Uniprot(2)\")\n",
    "        choice = input()\n",
    "        if choice == \"1\":\n",
    "            print(\"Podaj nazwę pliku\")\n",
    "            name = input()\n",
    "            seq = \"\"  # Inicjalizacja zmiennej seq\n",
    "            try:\n",
    "                with open(name, \"r\") as f:  # Użyj 'with' do otwarcia pliku, aby uniknąć zapominania o zamknięciu pliku\n",
    "                    read = f.read()\n",
    "                    seq = seqConstructor(read)\n",
    "            except IOError as e:\n",
    "                print(\"Wystąpił wyjątek:\", e)\n",
    "            return seq\n",
    "        elif choice == \"2\":\n",
    "            print(\"Podaj ID Uniprot\")\n",
    "            uniprot_id = input()\n",
    "            seq = get_uniprot_sequence(uniprot_id)\n",
    "            if seq:\n",
    "                return seq\n",
    "            else:\n",
    "                print(\"Nie udało się pobrać sekwencji dla podanego ID Uniprot.\")\n",
    "        else:\n",
    "            print(\"Błędna opcja\")\n",
    "\n",
    "\n",
    "print(\"Wybierz pierwszą sekwencję:\")\n",
    "#seq1 = start()\n",
    "print(\"Wybierz drugą sekwencję:\")\n",
    "#seq2 = start()\n",
    "dp = Dotplot.from_sequences(seq1, seq2)\n",
    "\n",
    "print(dp)"
   ],
   "metadata": {
    "collapsed": false,
    "ExecuteTime": {
     "end_time": "2024-03-15T08:50:58.493794Z",
     "start_time": "2024-03-15T08:50:58.418757Z"
    }
   },
   "id": "2d076487ec4075e2",
   "execution_count": 11,
   "outputs": []
  },
  {
   "cell_type": "code",
   "source": [],
   "metadata": {
    "collapsed": false
   },
   "id": "bedbbb421643e4ea",
   "execution_count": null,
   "outputs": []
  }
 ],
 "metadata": {
  "kernelspec": {
   "display_name": "Python 3 (ipykernel)",
   "language": "python",
   "name": "python3"
  },
  "language_info": {
   "codemirror_mode": {
    "name": "ipython",
    "version": 3
   },
   "file_extension": ".py",
   "mimetype": "text/x-python",
   "name": "python",
   "nbconvert_exporter": "python",
   "pygments_lexer": "ipython3",
   "version": "3.12.0"
  }
 },
 "nbformat": 4,
 "nbformat_minor": 5
}
