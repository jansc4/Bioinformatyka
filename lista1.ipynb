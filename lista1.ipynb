{
 "cells": [
  {
   "cell_type": "code",
   "execution_count": 2,
   "id": "initial_id",
   "metadata": {
    "ExecuteTime": {
     "end_time": "2024-03-08T09:06:45.249610Z",
     "start_time": "2024-03-08T09:06:45.244607Z"
    },
    "collapsed": true,
    "jupyter": {
     "outputs_hidden": true
    }
   },
   "outputs": [
    {
     "name": "stdout",
     "output_type": "stream",
     "text": [
      "sp|P02089|HBB2_MOUSE\n"
     ]
    }
   ],
   "source": [
    "from Bio import SeqIO\n",
    "\n",
    "with open(\"P02089.fasta\") as file:\n",
    "    for record in SeqIO.parse(file, \"fasta\"):\n",
    "        print(record.id)"
   ]
  },
  {
   "cell_type": "code",
   "execution_count": 4,
   "id": "d370895366b98505",
   "metadata": {
    "ExecuteTime": {
     "end_time": "2024-03-08T09:09:57.012646Z",
     "start_time": "2024-03-08T09:09:56.991844Z"
    },
    "collapsed": false
   },
   "outputs": [
    {
     "name": "stdout",
     "output_type": "stream",
     "text": [
      "MVHLTDAEKSAVSCLWAKVNPDEVGGEALGRLLVVYPWTQRYFDSFGDLSSASAIMGNPKVKAHGKKVITAFNEGLKNLDNLKGTFASLSELHCDKLHVDPENFRLLGNAIVIVLGHHLGKDFTPAAQAAFQKVVAGVATALAHKYH\n"
     ]
    }
   ],
   "source": [
    "from Bio import SeqIO\n",
    "\n",
    "for record in SeqIO.parse(\"P02089.fasta\", \"fasta\"):\n",
    "    print(record.seq)\n"
   ]
  },
  {
   "cell_type": "code",
   "execution_count": 9,
   "id": "85fc313aa1b7952c",
   "metadata": {
    "ExecuteTime": {
     "end_time": "2024-03-08T09:21:02.191675Z",
     "start_time": "2024-03-08T09:21:02.168759Z"
    },
    "collapsed": false
   },
   "outputs": [
    {
     "data": {
      "text/plain": [
       "Seq('MVHLTDAEKSAVSCLWAKVNPDEVGGEALGRLLVVYPWTQRYFDSFGDLSSASA...KYH')"
      ]
     },
     "execution_count": 9,
     "metadata": {},
     "output_type": "execute_result"
    }
   ],
   "source": [
    "record.seq"
   ]
  },
  {
   "cell_type": "code",
   "execution_count": 3,
   "id": "824d5acc0104903f",
   "metadata": {
    "ExecuteTime": {
     "end_time": "2024-03-08T09:09:09.794622Z",
     "start_time": "2024-03-08T09:09:09.784034Z"
    },
    "collapsed": false
   },
   "outputs": [
    {
     "name": "stdout",
     "output_type": "stream",
     "text": [
      ">sp|P02089|HBB2_MOUSE Hemoglobin subunit beta-2 OS=Mus musculus OX=10090 GN=Hbb-b2 PE=1 SV=2\n",
      "MVHLTDAEKSAVSCLWAKVNPDEVGGEALGRLLVVYPWTQRYFDSFGDLSSASAIMGNPK\n",
      "VKAHGKKVITAFNEGLKNLDNLKGTFASLSELHCDKLHVDPENFRLLGNAIVIVLGHHLG\n",
      "KDFTPAAQAAFQKVVAGVATALAHKYH\n"
     ]
    }
   ],
   "source": [
    "f = open(\"P02089.fasta\", \"r\")\n",
    "read = f.read()\n",
    "print(read)"
   ]
  },
  {
   "cell_type": "code",
   "execution_count": 8,
   "id": "3835c988808c8617",
   "metadata": {
    "ExecuteTime": {
     "end_time": "2024-03-08T09:18:20.495247Z",
     "start_time": "2024-03-08T09:18:20.480499Z"
    },
    "collapsed": false
   },
   "outputs": [
    {
     "name": "stdout",
     "output_type": "stream",
     "text": [
      "MVHLTDAEKSAVSCLWAKVNPDEVGGEALGRLLVVYPWTQRYFDSFGDLSSASAIMGNPKVKAHGKKVITAFNEGLKNLDNLKGTFASLSELHCDKLHVDPENFRLLGNAIVIVLGHHLGKDFTPAAQAAFQKVVAGVATALAHKYH\n"
     ]
    }
   ],
   "source": [
    "f = open(\"P02089.fasta\", \"r\")\n",
    "read = f.read()\n",
    "seq = \"\"\n",
    "read = read.split(\"\\n\")\n",
    "for i in read:\n",
    "    if \">\" not in i:\n",
    "        seq+=i\n",
    "        \n",
    "print(seq)"
   ]
  },
  {
   "cell_type": "code",
   "execution_count": null,
   "id": "8b1bc9f18d465831",
   "metadata": {
    "collapsed": false
   },
   "outputs": [],
   "source": []
  },
  {
   "cell_type": "markdown",
   "source": [],
   "metadata": {
    "collapsed": false
   },
   "id": "c5fcce4538751fd"
  },
  {
   "cell_type": "markdown",
   "source": [
    "Dotplot\n"
   ],
   "metadata": {
    "collapsed": false
   },
   "id": "43ed0446feb4ac62"
  },
  {
   "cell_type": "code",
   "outputs": [
    {
     "name": "stdout",
     "output_type": "stream",
     "text": [
      "[[1. 0. 0. ... 0. 0. 0.]\n",
      " [0. 1. 0. ... 0. 0. 0.]\n",
      " [0. 0. 1. ... 0. 0. 1.]\n",
      " ...\n",
      " [0. 0. 0. ... 1. 0. 0.]\n",
      " [0. 0. 0. ... 0. 1. 0.]\n",
      " [0. 0. 1. ... 0. 0. 1.]]\n"
     ]
    }
   ],
   "source": [
    "import numpy as np\n",
    "\n",
    "f = open(\"P02089.fasta\", \"r\")\n",
    "read = f.read()\n",
    "seq1 = \"\"\n",
    "read = read.split(\"\\n\")\n",
    "for i in read:\n",
    "    if \">\" not in i:\n",
    "        seq1+=i\n",
    "\n",
    "f_human = open(\"P68871.fasta\", \"r\")\n",
    "read_human = f_human.read()\n",
    "seq2 = \"\"\n",
    "read_human = read_human.split(\"\\n\")\n",
    "for i in read_human:\n",
    "    if \">\" not in i:\n",
    "        seq2+=i   \n",
    "        \n",
    "dotplot = np.zeros((len(seq1),len(seq2)))\n",
    "for i in range(len(seq1)):\n",
    "    for j in range(len(seq2)):\n",
    "        if seq1[i] == seq2[j]:\n",
    "            dotplot[i,j] = 1\n",
    "        else:\n",
    "            dotplot[i,j] = 0\n",
    "print(dotplot)"
   ],
   "metadata": {
    "collapsed": false,
    "ExecuteTime": {
     "end_time": "2024-03-08T09:41:39.078458Z",
     "start_time": "2024-03-08T09:41:38.992209Z"
    }
   },
   "id": "5303b2caf594565d",
   "execution_count": 10
  },
  {
   "cell_type": "code",
   "outputs": [
    {
     "name": "stdout",
     "output_type": "stream",
     "text": [
      "Wybierz metodę wprowadzania sekwencji: plik FASTA(1) lub ID Uniprot(2)\n",
      "Podaj ID Uniprot\n"
     ]
    },
    {
     "data": {
      "text/plain": "'MVHLTDAEKSAVSCLWAKVNPDEVGGEALGRLLVVYPWTQRYFDSFGDLSSASAIMGNPKVKAHGKKVITAFNEGLKNLDNLKGTFASLSELHCDKLHVDPENFRLLGNAIVIVLGHHLGKDFTPAAQAAFQKVVAGVATALAHKYH'"
     },
     "execution_count": 11,
     "metadata": {},
     "output_type": "execute_result"
    }
   ],
   "source": [
    "from Bio import SeqIO\n",
    "from urllib.error import HTTPError  # Importujemy wyjątek HTTPError\n",
    "\n",
    "import requests\n",
    "import numpy as np\n",
    "\n",
    "def get_uniprot_sequence(uniprot_id):\n",
    "    url = f\"https://www.uniprot.org/uniprot/{uniprot_id}.fasta\"\n",
    "    try:\n",
    "        response = requests.get(url)\n",
    "        response.raise_for_status()  # Sprawdź, czy odpowiedź nie zawiera błędu HTTP\n",
    "        fasta_data = response.text\n",
    "        lines = fasta_data.split('\\n')\n",
    "        seq = ''.join(lines[1:])  # Pobierz sekwencję z linii 2 i dalej (pomiń nagłówek)\n",
    "        return seq\n",
    "    except requests.exceptions.HTTPError as e:\n",
    "        print(f\"Wystąpił błąd HTTP: {e}\")\n",
    "        return None\n",
    "    except Exception as e:\n",
    "        print(f\"Wystąpił inny błąd: {e}\")\n",
    "        return None\n",
    "\n",
    "def start():\n",
    "    while True:\n",
    "        print(\"Wybierz metodę wprowadzania sekwencji: plik FASTA(1) lub ID Uniprot(2)\")\n",
    "        choice = input()\n",
    "        if choice == \"1\":\n",
    "            print(\"Podaj nazwę pliku\")\n",
    "            name = input()\n",
    "            seq = \"\"  # Inicjalizacja zmiennej seq\n",
    "            try:\n",
    "                with open(name, \"r\") as f:  # Użyj 'with' do otwarcia pliku, aby uniknąć zapominania o zamknięciu pliku\n",
    "                    read = f.read()\n",
    "                    read = read.split(\"\\n\")\n",
    "                    for i in read:\n",
    "                        if \">\" not in i:\n",
    "                            seq += i\n",
    "            except IOError as e:\n",
    "                print(\"Wystąpił wyjątek:\", e)\n",
    "            return seq\n",
    "        elif choice == \"2\":\n",
    "            print(\"Podaj ID Uniprot\")\n",
    "            uniprot_id = input()\n",
    "            seq = get_uniprot_sequence(uniprot_id)\n",
    "            if seq:\n",
    "                return seq\n",
    "            else:\n",
    "                print(\"Nie udało się pobrać sekwencji dla podanego ID Uniprot.\")\n",
    "        else:\n",
    "            print(\"Błędna opcja\")\n",
    "\n",
    "start()"
   ],
   "metadata": {
    "collapsed": false,
    "ExecuteTime": {
     "end_time": "2024-03-14T18:06:48.913891Z",
     "start_time": "2024-03-14T18:06:33.858750Z"
    }
   },
   "id": "11ff8db2bfb09886",
   "execution_count": 11
  },
  {
   "cell_type": "code",
   "outputs": [],
   "source": [
    "import numpy as np\n",
    "\n",
    "class Sequence:\n",
    "    def __init__(self, seq):\n",
    "        self.sequence = seq\n",
    "        self.length = len(seq)\n",
    "        \n",
    "    def __str__(self):\n",
    "        return self.sequence\n",
    "    \n",
    "    def get_length(self):\n",
    "        return self.length\n",
    "    \n",
    "    def dotplot(self, seq2):\n",
    "        dp = np.zeros((self.length, seq2.get_length()))\n",
    "        for i in range(self.length):\n",
    "            for j in range(seq2.get_length()):\n",
    "                if self.sequence[i] == seq2.sequence[j]:\n",
    "                    dp[i,j] = 1\n",
    "                else:\n",
    "                    dp[i,j] = 0\n",
    "        return dp\n"
   ],
   "metadata": {
    "collapsed": false,
    "ExecuteTime": {
     "end_time": "2024-03-14T18:31:01.726913Z",
     "start_time": "2024-03-14T18:31:01.719913Z"
    }
   },
   "id": "e14db752cb3fbc8e",
   "execution_count": 16
  },
  {
   "cell_type": "code",
   "outputs": [
    {
     "name": "stdout",
     "output_type": "stream",
     "text": [
      "Wybierz pierwszą sekwencję:\n",
      "Wybierz metodę wprowadzania sekwencji: plik FASTA(1) lub ID Uniprot(2)\n",
      "Podaj nazwę pliku\n",
      "Wybierz drugą sekwencję:\n",
      "Wybierz metodę wprowadzania sekwencji: plik FASTA(1) lub ID Uniprot(2)\n",
      "Podaj nazwę pliku\n",
      "[[1. 0. 0. ... 0. 0. 0.]\n",
      " [0. 1. 0. ... 0. 0. 0.]\n",
      " [0. 0. 1. ... 0. 0. 1.]\n",
      " ...\n",
      " [0. 0. 0. ... 1. 0. 0.]\n",
      " [0. 0. 0. ... 0. 1. 0.]\n",
      " [0. 0. 1. ... 0. 0. 1.]]\n"
     ]
    }
   ],
   "source": [
    "import requests\n",
    "import numpy as np\n",
    "\n",
    "def get_uniprot_sequence(uniprot_id):\n",
    "    url = f\"https://www.uniprot.org/uniprot/{uniprot_id}.fasta\"\n",
    "    try:\n",
    "        response = requests.get(url)\n",
    "        response.raise_for_status()  # Sprawdź, czy odpowiedź nie zawiera błędu HTTP\n",
    "        fasta_data = response.text\n",
    "        lines = fasta_data.split('\\n')\n",
    "        seq = ''.join(lines[1:])  # Pobierz sekwencję z linii 2 i dalej (pomiń nagłówek)\n",
    "        return seq\n",
    "    except requests.exceptions.HTTPError as e:\n",
    "        print(f\"Wystąpił błąd HTTP: {e}\")\n",
    "        return None\n",
    "    except Exception as e:\n",
    "        print(f\"Wystąpił inny błąd: {e}\")\n",
    "        return None\n",
    "\n",
    "def start():\n",
    "    while True:\n",
    "        print(\"Wybierz metodę wprowadzania sekwencji: plik FASTA(1) lub ID Uniprot(2)\")\n",
    "        choice = input()\n",
    "        if choice == \"1\":\n",
    "            print(\"Podaj nazwę pliku\")\n",
    "            name = input()\n",
    "            seq = \"\"  # Inicjalizacja zmiennej seq\n",
    "            try:\n",
    "                with open(name, \"r\") as f:  # Użyj 'with' do otwarcia pliku, aby uniknąć zapominania o zamknięciu pliku\n",
    "                    read = f.read()\n",
    "                    read = read.split(\"\\n\")\n",
    "                    for i in read:\n",
    "                        if \">\" not in i:\n",
    "                            seq += i\n",
    "            except IOError as e:\n",
    "                print(\"Wystąpił wyjątek:\", e)\n",
    "            return seq\n",
    "        elif choice == \"2\":\n",
    "            print(\"Podaj ID Uniprot\")\n",
    "            uniprot_id = input()\n",
    "            seq = get_uniprot_sequence(uniprot_id)\n",
    "            if seq:\n",
    "                return seq\n",
    "            else:\n",
    "                print(\"Nie udało się pobrać sekwencji dla podanego ID Uniprot.\")\n",
    "        else:\n",
    "            print(\"Błędna opcja\")\n",
    "\n",
    "print(\"Wybierz pierwszą sekwencję:\")\n",
    "seq1 = Sequence(start())\n",
    "print(\"Wybierz drugą sekwencję:\")\n",
    "seq2 = Sequence(start())\n",
    "dp = seq1.dotplot(seq2)\n",
    "print(dp)"
   ],
   "metadata": {
    "collapsed": false,
    "ExecuteTime": {
     "end_time": "2024-03-14T18:32:03.303535Z",
     "start_time": "2024-03-14T18:31:49.991059Z"
    }
   },
   "id": "ae9dd1e62174395",
   "execution_count": 17
  },
  {
   "cell_type": "code",
   "outputs": [],
   "source": [],
   "metadata": {
    "collapsed": false
   },
   "id": "243ca62e561edca1"
  }
 ],
 "metadata": {
  "kernelspec": {
   "display_name": "Python 3 (ipykernel)",
   "language": "python",
   "name": "python3"
  },
  "language_info": {
   "codemirror_mode": {
    "name": "ipython",
    "version": 3
   },
   "file_extension": ".py",
   "mimetype": "text/x-python",
   "name": "python",
   "nbconvert_exporter": "python",
   "pygments_lexer": "ipython3",
   "version": "3.12.0"
  }
 },
 "nbformat": 4,
 "nbformat_minor": 5
}
