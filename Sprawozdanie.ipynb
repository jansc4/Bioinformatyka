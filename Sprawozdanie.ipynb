{
 "cells": [
  {
   "cell_type": "markdown",
   "source": [
    "                            Sprawozdanie\n",
    "                            \n",
    "Jan Nowak 268357\n",
    "Podstawowy pseudokod:\n",
    "Klasa Sequence:\n",
    "    - sequence\n",
    "    - name\n",
    "    - id\n",
    "\n",
    "Funkcja get_uniprot_sequence(uniprot_id):\n",
    "    - Pobierz sekwencję z bazy danych Uniprot na podstawie ID\n",
    "\n",
    "Funkcja seqConstructor(fasta_data):\n",
    "    - Przetwórz dane FASTA na obiekt Sequence\n",
    "\n",
    "Klasa Dotplot:\n",
    "    - array\n",
    "    - seq1Id\n",
    "    - seq2Id\n",
    "    - seq1Name\n",
    "    - seq2Name\n",
    "\n",
    "Funkcja dotplot(seq1, seq2):\n",
    "    - Utwórz macierz kropkową dla dwóch sekwencji\n",
    "\n",
    "Funkcja filtruj(window, threshold):\n",
    "    - Filtrowanie macierzy kropkowej na podstawie okna i progu\n",
    "\n",
    "Główna funkcja:\n",
    "    - Pobierz dwie sekwencje (od użytkownika lub z Uniprot)\n",
    "    - Utwórz macierz kropkową dla dwóch sekwencji\n",
    "    - Wygeneruj wykres macierzy kropkowej\n",
    "    - Zastosuj filtrację na macierzy kropkowej\n",
    "    - Wygeneruj wykres macierzy kropkowej po filtracji\n",
    "    - Zapisz macierz kropkową do pliku tekstowego\n",
    "    \n",
    "Kod programu:\n"
   ],
   "metadata": {
    "collapsed": false
   },
   "id": "cb0fd6f1f4b49529"
  },
  {
   "cell_type": "code",
   "source": [
    "import numpy as np\n",
    "import matplotlib.pyplot as plt\n",
    "\n",
    "class Dotplot:\n",
    "    def __init__(self, array, seq1Id=\"1\", seq2Id=\"2\", seq1Name=\"Seq 1\", seq2Name=\"Seq 2\"):\n",
    "        self.array = array\n",
    "        self.size = array.shape\n",
    "        self.seq1Id = seq1Id\n",
    "        self.seq2Id = seq2Id\n",
    "        self.seq1Name = seq1Name\n",
    "        self.seq2Name = seq2Name\n",
    "\n",
    "    @classmethod\n",
    "    def from_sequences(cls, seq1, seq2):\n",
    "        len_seq1 = len(seq1.sequence)\n",
    "        len_seq2 = len(seq2.sequence)\n",
    "\n",
    "        dp = np.zeros((len_seq1, len_seq2), dtype=int)\n",
    "\n",
    "        for i in range(len_seq1):\n",
    "            for j in range(len_seq2):\n",
    "                if seq1.sequence[i] == seq2.sequence[j]:\n",
    "                    dp[i, j] = 1\n",
    "\n",
    "        return cls(dp, seq1.id, seq2.id, seq1.name, seq2.name)\n",
    "\n",
    "    def __getitem__(self, index):\n",
    "        return self.array[index]\n",
    "\n",
    "    def __setitem__(self, index, val):\n",
    "        self.array[index] = val\n",
    "\n",
    "    def __str__(self):\n",
    "        return str(self.array)\n",
    "\n",
    "    def save_txt(self, filename):\n",
    "        np.savetxt(filename, self.array, fmt=\"%d\")\n",
    "\n",
    "    def graphic(self, filename, title=\"Dotplot Matrix\", window=None, threshold=None):\n",
    "        plt.imshow(self.array, cmap='binary', interpolation='nearest')\n",
    "        plt.title(title)\n",
    "        plt.xlabel(f\"{self.seq2Name} {self.seq2Id}\")\n",
    "        plt.ylabel(f\"{self.seq1Name} {self.seq1Id}\")\n",
    "        plt.grid(True, which='both', linestyle='--', linewidth=0.5, color='gray')\n",
    "\n",
    "        # Dodanie skali\n",
    "        plt.colorbar(label='Intensity')\n",
    "\n",
    "        # Dodanie legendy z parametrami filtracji\n",
    "        if window is not None and threshold is not None:\n",
    "            plt.text(0.9, -0.1, f\"Window: {window}, Threshold: {threshold}\",\n",
    "                     horizontalalignment='center', verticalalignment='center', transform=plt.gca().transAxes)\n",
    "\n",
    "        plt.savefig(filename)\n",
    "        plt.show()\n",
    "\n",
    "    def filter(self, window, threshold):\n",
    "        wynik = np.zeros_like(self.array)\n",
    "        high, width = self.array.shape\n",
    "\n",
    "        for i in range(high - window + 1):\n",
    "            for j in range(width - window + 1):\n",
    "                sum_diag = np.sum(np.diagonal(self.array[i:i+window, j:j+window]))\n",
    "                if sum_diag >= threshold:\n",
    "                    wynik[i, j] = 1\n",
    "\n",
    "        return Dotplot(wynik, self.seq1Id, self.seq2Id, self.seq1Name, self.seq2Name)\n",
    "\n"
   ],
   "metadata": {
    "collapsed": false,
    "ExecuteTime": {
     "end_time": "2024-03-22T08:17:24.936068Z",
     "start_time": "2024-03-22T08:17:24.088076Z"
    }
   },
   "id": "d2c0d0abaa9d8741",
   "execution_count": 1,
   "outputs": []
  },
  {
   "cell_type": "code",
   "source": [
    "import numpy as np\n",
    "\n",
    "from Dotplot import Dotplot\n",
    "\n",
    "\n",
    "class Sequence:\n",
    "    def __init__(self, seq, name=\"default\", id=000000):\n",
    "        self.sequence = seq\n",
    "        self.length = len(seq)\n",
    "        self.name = name\n",
    "        self.id = id\n",
    "\n",
    "    def __str__(self):\n",
    "        return self.sequence\n",
    "\n",
    "    def get_length(self):\n",
    "        return self.length\n",
    "\n",
    "    def dotplot(self, seq2):\n",
    "        dp = np.zeros((self.length, seq2.get_length()))\n",
    "        for i in range(self.length):\n",
    "            for j in range(seq2.get_length()):\n",
    "                if self.sequence[i] == seq2.sequence[j]:\n",
    "                    dp[i, j] = 1\n",
    "                else:\n",
    "                    dp[i, j] = 0\n",
    "        return Dotplot(dp)\n",
    "\n"
   ],
   "metadata": {
    "collapsed": false,
    "ExecuteTime": {
     "end_time": "2024-03-22T08:17:26.911214Z",
     "start_time": "2024-03-22T08:17:26.900029Z"
    }
   },
   "id": "7b01681e225351bf",
   "execution_count": 2,
   "outputs": []
  },
  {
   "cell_type": "code",
   "source": [
    "import requests\n",
    "from Sequence import Sequence\n",
    "from Dotplot import Dotplot\n",
    "import re\n",
    "import numpy as np\n",
    "\n",
    "def seqConstructor(fasta_data):\n",
    "    lines = fasta_data.split('\\n')\n",
    "\n",
    "    # czy sekwencja zawiera nagłówek\n",
    "    if not lines[0].startswith('>'):\n",
    "        print(\"Błąd: Brak nagłówka w sekwencji FASTA.\")\n",
    "        return None\n",
    "\n",
    "    seq = ''.join(lines[1:])\n",
    "\n",
    "    # czy sekwencja zawiera nielegalne znaki\n",
    "    basic_amino_acids = {'A', 'C', 'D', 'E', 'F', 'G', 'H', 'I', 'K', 'L', 'M', 'N', 'P', 'Q', 'R', 'S', 'T', 'V', 'W',\n",
    "                         'Y'}\n",
    "\n",
    "    if not set(seq).issubset(basic_amino_acids):\n",
    "        print(\"Błąd: Sekwencja zawiera nielegalne znaki.\")\n",
    "        return None\n",
    "\n",
    "    match = re.match(r\">sp\\|(\\w+)\\|(\\w+)OS\", lines[0])\n",
    "    id = None\n",
    "    name = None\n",
    "    if match:\n",
    "        id = match.group(1)\n",
    "        name = match.group(2)\n",
    "\n",
    "    protein = Sequence(seq, id, name)\n",
    "    return protein\n",
    "\n",
    "\n",
    "def get_uniprot_sequence(uniprot_id):\n",
    "    url = f\"https://www.uniprot.org/uniprot/{uniprot_id}.fasta\"\n",
    "    try:\n",
    "        response = requests.get(url)\n",
    "        response.raise_for_status()  # Sprawdź, czy odpowiedź nie zawiera błędu HTTP\n",
    "        fasta_data = response.text\n",
    "        seq = seqConstructor(fasta_data)\n",
    "        return seq\n",
    "    except requests.exceptions.HTTPError as e:\n",
    "        print(f\"Wystąpił błąd HTTP: {e}\")\n",
    "        return None\n",
    "    except Exception as e:\n",
    "        print(f\"Wystąpił inny błąd: {e}\")\n",
    "        return None\n",
    "\n",
    "\n",
    "def start():\n",
    "    while True:\n",
    "        print(\"Wybierz metodę wprowadzania sekwencji: plik FASTA(1) lub ID Uniprot(2)\")\n",
    "        choice = input()\n",
    "        if choice == \"1\":\n",
    "            print(\"Podaj nazwę pliku\")\n",
    "            name = input()\n",
    "            seq = \"\"  \n",
    "            try:\n",
    "                with open(name, \"r\") as f: \n",
    "                    read = f.read()\n",
    "                    seq = seqConstructor(read)\n",
    "            except IOError as e:\n",
    "                print(\"Wystąpił wyjątek:\", e)\n",
    "            return seq\n",
    "        elif choice == \"2\":\n",
    "            print(\"Podaj ID Uniprot\")\n",
    "            uniprot_id = input()\n",
    "            seq = get_uniprot_sequence(uniprot_id)\n",
    "            if seq:\n",
    "                return seq\n",
    "            else:\n",
    "                print(\"Nie udało się pobrać sekwencji dla podanego ID Uniprot.\")\n",
    "        else:\n",
    "            print(\"Błędna opcja\")\n",
    "\n",
    "\n",
    "\n",
    "#print(\"Wybierz pierwszą sekwencję:\")\n",
    "#seq1 = start()\n",
    "#print(\"Wybierz drugą sekwencję:\")\n",
    "#seq2 = start()\n",
    "\n"
   ],
   "metadata": {
    "collapsed": false,
    "ExecuteTime": {
     "end_time": "2024-03-22T08:17:35.343169Z",
     "start_time": "2024-03-22T08:17:35.224128Z"
    }
   },
   "id": "39992f98bb355bfa",
   "execution_count": 3,
   "outputs": []
  },
  {
   "cell_type": "markdown",
   "source": [
    "Analiza złożoności obliczeniowej czasowej\n",
    "W przypadku sekwencji o długości n i m, złożoność obliczeniowa algorytmu tworzenia macierzy kropkowej wynosi O(n * m), ponieważ musimy porównać każdyznak z sekwencji pierwszej z każdym znakiem z sekwencji drugiej.\n",
    "Dla filtracji ta złożoność rośnie i zależy od k^2."
   ],
   "metadata": {
    "collapsed": false
   },
   "id": "24b038412482f64f"
  },
  {
   "cell_type": "markdown",
   "source": [
    "Porównanie przykładowych par sekwencji ewolucyjnie powiązanych:"
   ],
   "metadata": {
    "collapsed": false
   },
   "id": "ef7055e6bd5616d4"
  },
  {
   "cell_type": "code",
   "source": [
    "from Sequence import Sequence\n",
    "from Dotplot import Dotplot\n",
    "seq1 = Sequence(\"MVHLTDAEKSAVSCLWAKVNPDEVGGEALGRLLVVYPWTQRYFDSFGDLSSASAIMGNPKVKAHGKKVITAFNEGLKNLDNLKGTFASLSELHCDKLHVDPENFRLLGNAIVIVLGHHLGKDFTPAAQAAFQKVVAGVATALAHKYH\", \"human\", \"P02089\")\n",
    "seq2 = Sequence(\"MVHLTPEEKSAVTALWGKVNVDEVGGEALGRLLVVYPWTQRFFESFGDLSTPDAVMGNPKVKAHGKKVLGAFSDGLAHLDNLKGTFATLSELHCDKLHVDPENFRLLGNVLVCVLAHHFGKEFTPPVQAAYQKVVAGVANALAHKYH\", \"mouse\", \"P68871\")\n",
    "dp = Dotplot.from_sequences(seq1, seq2)\n",
    "dp.graphic(\"matrix1\")\n",
    "dp = dp.filter(3, 2)\n",
    "dp.graphic(\"matrix2\", \"Dotplot_after_filter\", 3, 2)"
   ],
   "metadata": {
    "collapsed": false,
    "ExecuteTime": {
     "end_time": "2024-03-21T20:46:57.222690Z",
     "start_time": "2024-03-21T20:46:55.762929Z"
    }
   },
   "id": "58f5d4df5df5b604",
   "execution_count": 8,
   "outputs": []
  },
  {
   "cell_type": "markdown",
   "source": [
    "Na dotplocie po filtracji wyraźnie widać miejsca przerwań. Te obszary sekwencji sobie nie odpowiadają co jest najprawdopodobinej wynikiem podstawienia - substytucji. "
   ],
   "metadata": {
    "collapsed": false
   },
   "id": "8bd51592b398a090"
  },
  {
   "cell_type": "markdown",
   "source": [
    "Porównanie przykładowych par sekwencji ewolucyjnie niepowiązanych:\n",
    "(izolowanie nazwy z fasta sprawia trudności bo zdarzają się odstępstwa od formatu)"
   ],
   "metadata": {
    "collapsed": false
   },
   "id": "71c6fe7c1a67bbc"
  },
  {
   "cell_type": "markdown",
   "source": [],
   "metadata": {
    "collapsed": false
   },
   "id": "e28699e2b929c0ba"
  },
  {
   "cell_type": "code",
   "source": [
    "from Sequence import Sequence\n",
    "from Dotplot import Dotplot\n",
    "seq1 = Sequence(\"MVHLTDAEKSAVSCLWAKVNPDEVGGEALGRLLVVYPWTQRYFDSFGDLSSASAIMGNPKVKAHGKKVITAFNEGLKNLDNLKGTFASLSELHCDKLHVDPENFRLLGNAIVIVLGHHLGKDFTPAAQAAFQKVVAGVATALAHKYH\", \"human\", \"P02089\")\n",
    "seq2 = start()\n",
    "#P06213 z uniprot\n",
    "dp = Dotplot.from_sequences(seq1, seq2)\n",
    "dp.graphic(\"matrix1\")\n",
    "dp = dp.filter(5, 4)\n",
    "dp.graphic(\"matrix2\", \"Dotplot_after_filter\", 5, 4)"
   ],
   "metadata": {
    "collapsed": false,
    "ExecuteTime": {
     "end_time": "2024-03-21T20:15:54.800032Z",
     "start_time": "2024-03-21T20:15:47.008741Z"
    }
   },
   "id": "1d3b98537bca351b",
   "execution_count": 7,
   "outputs": []
  },
  {
   "cell_type": "code",
   "source": [],
   "metadata": {
    "collapsed": false
   },
   "id": "42dec73dddb672b9",
   "execution_count": null,
   "outputs": []
  }
 ],
 "metadata": {
  "kernelspec": {
   "display_name": "Python 3",
   "language": "python",
   "name": "python3"
  },
  "language_info": {
   "codemirror_mode": {
    "name": "ipython",
    "version": 2
   },
   "file_extension": ".py",
   "mimetype": "text/x-python",
   "name": "python",
   "nbconvert_exporter": "python",
   "pygments_lexer": "ipython2",
   "version": "2.7.6"
  }
 },
 "nbformat": 4,
 "nbformat_minor": 5
}
